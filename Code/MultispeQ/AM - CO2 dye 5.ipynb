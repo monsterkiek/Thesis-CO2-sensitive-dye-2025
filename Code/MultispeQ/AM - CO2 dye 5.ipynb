{
 "cells": [
  {
   "cell_type": "code",
   "execution_count": 1,
   "metadata": {},
   "outputs": [
    {
     "data": {
      "text/plain": [
       "<module 'protocol_590nm' from 'c:\\\\Users\\\\nikit\\\\OneDrive\\\\Desktop\\\\Thesis data code and data for transport\\\\Code\\\\protocol_590nm.py'>"
      ]
     },
     "execution_count": 1,
     "metadata": {},
     "output_type": "execute_result"
    }
   ],
   "source": [
    "import importlib\n",
    "import protocol_590nm  \n",
    "importlib.reload(protocol_590nm)"
   ]
  },
  {
   "cell_type": "code",
   "execution_count": 2,
   "metadata": {},
   "outputs": [],
   "source": [
    "import jii_multispeq.measurement as _measurement\n",
    "import jii_multispeq.device as _device\n",
    "\n",
    "import matplotlib.pyplot as plt\n",
    "\n",
    "import protocol_590nm as _590nm"
   ]
  },
  {
   "cell_type": "code",
   "execution_count": 3,
   "metadata": {},
   "outputs": [
    {
     "name": "stdout",
     "output_type": "stream",
     "text": [
      "Port    Name    Description                                  Manufacturer    Product\n",
      "------  ------  -------------------------------------------  --------------  ---------\n",
      "COM11   COM11   USB Serial Device (COM11)                    Microsoft\n",
      "COM9    COM9    Standard Serial over Bluetooth link (COM9)   Microsoft\n",
      "COM10   COM10   Standard Serial over Bluetooth link (COM10)  Microsoft\n"
     ]
    }
   ],
   "source": [
    "_device.get_ports()"
   ]
  },
  {
   "cell_type": "code",
   "execution_count": 4,
   "metadata": {},
   "outputs": [
    {
     "name": "stdout",
     "output_type": "stream",
     "text": [
      "Connected Opened\n"
     ]
    }
   ],
   "source": [
    "\n",
    "_connection = _device.connect('COM11')\n",
    "_data, crc32 = _measurement.measure( _connection, _590nm._protocol, 'test', 'change timing', 'protocol_dev' )"
   ]
  },
  {
   "cell_type": "code",
   "execution_count": 5,
   "metadata": {},
   "outputs": [
    {
     "data": {
      "image/png": "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",
      "text/plain": [
       "<Figure size 1000x500 with 1 Axes>"
      ]
     },
     "metadata": {},
     "output_type": "display_data"
    },
    {
     "name": "stdout",
     "output_type": "stream",
     "text": [
      "Parameter             Value                             Type\n",
      "--------------------  --------------------------------  ---------------\n",
      "Absorbance [590 nm]   n/a                               <class 'list'>\n",
      "created_at            2025-06-23T16:08:19.729343+02:00  <class 'str'>\n",
      "device_battery        100                               <class 'int'>\n",
      "device_firmware       2.311                             <class 'float'>\n",
      "device_id             08:8d:46:f4                       <class 'str'>\n",
      "device_name           MultispeQ                         <class 'str'>\n",
      "device_version        2                                 <class 'str'>\n",
      "md5_measurement       679ae12618358dddc4c00500d432aef5  <class 'str'>\n",
      "md5_protocol          441adb71a7aa5f0821da16a2d60ebc59  <class 'str'>\n",
      "name                  test                              <class 'str'>\n",
      "notes                 change timing                     <class 'str'>\n",
      "protocol              n/a                               <class 'list'>\n",
      "PulseNumber           n/a                               <class 'range'>\n",
      "Reflectance [590 nm]  n/a                               <class 'list'>\n",
      "Reflectance [655 nm]  n/a                               <class 'list'>\n",
      "Time [min]            n/a                               <class 'list'>\n"
     ]
    }
   ],
   "source": [
    "_data_analyzed = _measurement.analyze(_data, _590nm._analyze)\n",
    "\n",
    "_data_analyzed['PulseNumber'] = range(1, len(_data_analyzed) + 1)  # 1, 2, 3, ...\n",
    "_data_analyzed['Reflectance [590 nm]']\n",
    "_data_analyzed['Time [min]']\n",
    "\n",
    "# Create the plot\n",
    "plt.figure(figsize=(10, 5))\n",
    "plt.plot(_data_analyzed['Time [min]'], _data_analyzed['Reflectance [590 nm]'], 'b-', linewidth=2)\n",
    "\n",
    "# Customize the plot\n",
    "plt.grid(True, linestyle='-', axis='y', alpha=0.3)\n",
    "plt.xlabel('Time [min]', fontdict={\"size\": 15})\n",
    "plt.ylabel('Reflectance [590 nm]', fontdict={\"size\": 15})\n",
    "for spine in ['top', 'right']:\n",
    "    plt.gca().spines[spine].set_visible(False)\n",
    "\n",
    "# Use a tight layout\n",
    "plt.tight_layout()\n",
    "\n",
    "# Show the plot\n",
    "plt.show()\n",
    "\n",
    "_measurement.view(_data_analyzed)\n"
   ]
  },
  {
   "cell_type": "markdown",
   "metadata": {},
   "source": []
  },
  {
   "cell_type": "code",
   "execution_count": 6,
   "metadata": {},
   "outputs": [],
   "source": [
    "import pandas as pd\n",
    "\n",
    "# 1. Separate numeric data (equal-length columns)\n",
    "data = {\n",
    "    'Time [min]': _data_analyzed['Time [min]'],\n",
    "    'Reflectance [590 nm]': _data_analyzed['Reflectance [590 nm]']\n",
    "}\n",
    "df = pd.DataFrame(data)\n",
    "\n",
    "# 2. Add PulseNumber\n",
    "df['PulseNumber'] = range(1, len(df) + 1)  # Key change here!\n",
    "# 3. Save metadata\n",
    "metadata = {\n",
    "    k: v for k, v in _data_analyzed.items() \n",
    "    if k not in data\n",
    "}\n"
   ]
  },
  {
   "cell_type": "code",
   "execution_count": null,
   "metadata": {},
   "outputs": [],
   "source": []
  },
  {
   "cell_type": "code",
   "execution_count": 7,
   "metadata": {},
   "outputs": [],
   "source": [
    "import os\n",
    "import csv\n",
    "\n",
    "output_folder = r"C:\\PATH\\TO\\YOUR\\OUTPUT\\FOLDER",
    "output_path = os.path.join(output_folder, \"YOUR_FILENAME.csv")\n",
    "\n",
    "os.makedirs(output_folder, exist_ok=True)\n",
    "\n",
    "with open(output_path, 'w', newline='') as f:\n",
    "    writer = csv.writer(f)\n",
    "    # Write header\n",
    "    writer.writerow(['Time [min]', 'Reflectance_590', 'PulseNumber'])\n",
    "    # Write data rows\n",
    "    for _, row in df.iterrows():\n",
    "        writer.writerow([f\"{row['Time [min]']:.5f}\", \n",
    "                         f\"{row['Reflectance [590 nm]']:.5f}\", \n",
    "                         row['PulseNumber']])\n",
    "\n",
   ]
  },
  {
   "cell_type": "code",
   "execution_count": 8,
   "metadata": {},
   "outputs": [
    {
     "name": "stdout",
     "output_type": "stream",
     "text": [
      "   Time [min]  Reflectance [590 nm]  PulseNumber\n",
      "0    0.020083                  6474            1\n",
      "1    0.040167                   594            2\n",
      "2    0.060250                   602            3\n",
      "3    0.080333                   596            4\n",
      "4    0.100417                   601            5\n"
     ]
    }
   ],
   "source": [
    "print(df.head())"
   ]
  }
 ],
 "metadata": {
  "kernelspec": {
   "display_name": "Python 3",
   "language": "python",
   "name": "python3"
  },
  "language_info": {
   "codemirror_mode": {
    "name": "ipython",
    "version": 3
   },
   "file_extension": ".py",
   "mimetype": "text/x-python",
   "name": "python",
   "nbconvert_exporter": "python",
   "pygments_lexer": "ipython3",
   "version": "3.13.2"
  }
 },
 "nbformat": 4,
 "nbformat_minor": 2
}
